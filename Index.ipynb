{
 "cells": [
  {
   "cell_type": "markdown",
   "metadata": {},
   "source": [
    "# Python Object Attributes Lab"
   ]
  },
  {
   "cell_type": "markdown",
   "metadata": {},
   "source": [
    "## Introduction\n",
    "In this lab, we will practice defining classes and instance methods. We will also practice working with getter and setter (read and write) methods using properties and decorators to operate on instance variables."
   ]
  },
  {
   "cell_type": "markdown",
   "metadata": {},
   "source": [
    "## Objectives\n",
    "\n",
    "* Practice defining classes and instantiating instances of those classes\n",
    "* Practice defining instance methods\n",
    "* Use properties and decorators properly"
   ]
  },
  {
   "cell_type": "markdown",
   "metadata": {},
   "source": [
    "## Defining Classes and Instance Methods"
   ]
  },
  {
   "cell_type": "markdown",
   "metadata": {},
   "source": [
    "First things first, we should load the autoreload extension from IPython. To learn more about this, click [here.](https://ipython.org/ipython-doc/3/config/extensions/autoreload.html)"
   ]
  },
  {
   "cell_type": "code",
   "execution_count": 29,
   "metadata": {},
   "outputs": [],
   "source": [
    "# %load_ext autoreload\n",
    "# %autoreload 2"
   ]
  },
  {
   "cell_type": "markdown",
   "metadata": {},
   "source": [
    "In this section use the driver.py file to define your `Driver` class and use the passenger.py file to define your `Passenger` class. Both of these files can be found in your directory.\n",
    "\n",
    "Our driver instance objects should have instance variables for first name, last name, miles driven, and rating. We can name these instance variables `_first_name`, `_last_name`, `_miles_driven`, and `_rating`. We will want to be able to access, change, and delete these values using the appropriate properties and decorators. \n",
    "\n",
    "After defining the above instance methods, define an instance method called `greet_passenger`, which returns the string `Hello! I'll be your driver today. My name is ` followed by that driver's first name and last name (i.e. Hello! I'll be your driver today. My name is John Doe)."
   ]
  },
  {
   "cell_type": "code",
   "execution_count": 39,
   "metadata": {},
   "outputs": [],
   "source": [
    "from driver import Driver"
   ]
  },
  {
   "cell_type": "code",
   "execution_count": 50,
   "metadata": {},
   "outputs": [
    {
     "name": "stdout",
     "output_type": "stream",
     "text": [
      "Rachel\n",
      "Jensen\n",
      "100\n",
      "4.9\n"
     ]
    }
   ],
   "source": [
    "driver = Driver()\n",
    "driver.first = \"Rachel\"\n",
    "driver.last = \"Jensen\"\n",
    "driver.miles_driven = 100\n",
    "driver.rating = 4.9\n",
    "print(driver.first) # \"Rachel\"\n",
    "print(driver.last) # \"Jensen\"\n",
    "print(driver.miles_driven) # 100\n",
    "print(driver.rating) # 4.9\n",
    "driver.greet_passenger() # Hello! I'll be your driver today. My name is Rachel Jensen"
   ]
  },
  {
   "cell_type": "markdown",
   "metadata": {},
   "source": [
    "In the `Passenger` class, we will want our passenger instance objects to have the attributes first name, last name, and email. Let's continue using the leading underscore naming convention we employed in our `Driver` class and name these instance variables `_first_name`, `_last_name`, and `_email`. Define the appropriate instance methods using property and the appropriate decorators for reading (getting), writing (setting), and deleting instance variables. \n",
    "\n",
    "Next, we want to define an instance method called `yell_name` which returns a string with the passengers name in all caps (i.e. \"RON BURGUNDY\"). "
   ]
  },
  {
   "cell_type": "code",
   "execution_count": 41,
   "metadata": {},
   "outputs": [],
   "source": [
    "from passenger import Passenger"
   ]
  },
  {
   "cell_type": "code",
   "execution_count": 51,
   "metadata": {},
   "outputs": [
    {
     "name": "stdout",
     "output_type": "stream",
     "text": [
      "Ron\n",
      "Burgundy\n",
      "ron.burgundy1984@gmail.com\n"
     ]
    },
    {
     "ename": "AttributeError",
     "evalue": "'Passenger' object has no attribute '_first_name'",
     "output_type": "error",
     "traceback": [
      "\u001b[0;31m---------------------------------------------------------------------------\u001b[0m",
      "\u001b[0;31mAttributeError\u001b[0m                            Traceback (most recent call last)",
      "\u001b[0;32m<ipython-input-51-0905f56fdb26>\u001b[0m in \u001b[0;36m<module>\u001b[0;34m()\u001b[0m\n\u001b[1;32m      6\u001b[0m \u001b[0mprint\u001b[0m\u001b[0;34m(\u001b[0m\u001b[0mpassenger\u001b[0m\u001b[0;34m.\u001b[0m\u001b[0mlast\u001b[0m\u001b[0;34m)\u001b[0m \u001b[0;31m# \"Burgundy\"\u001b[0m\u001b[0;34m\u001b[0m\u001b[0m\n\u001b[1;32m      7\u001b[0m \u001b[0mprint\u001b[0m\u001b[0;34m(\u001b[0m\u001b[0mpassenger\u001b[0m\u001b[0;34m.\u001b[0m\u001b[0memail\u001b[0m\u001b[0;34m)\u001b[0m \u001b[0;31m# \"ron.burgundy1984@gmail.com\"\u001b[0m\u001b[0;34m\u001b[0m\u001b[0m\n\u001b[0;32m----> 8\u001b[0;31m \u001b[0mpassenger\u001b[0m\u001b[0;34m.\u001b[0m\u001b[0myell_name\u001b[0m\u001b[0;34m(\u001b[0m\u001b[0;34m)\u001b[0m \u001b[0;31m# \"RON BURGUNDY\"\u001b[0m\u001b[0;34m\u001b[0m\u001b[0m\n\u001b[0m",
      "\u001b[0;32m~/Flatiron Labs/python-object-attributes-lab-nyc-career-ds-062518/passenger.py\u001b[0m in \u001b[0;36myell_name\u001b[0;34m(self)\u001b[0m\n\u001b[1;32m     10\u001b[0m \u001b[0;34m\u001b[0m\u001b[0m\n\u001b[1;32m     11\u001b[0m     \u001b[0;32mdef\u001b[0m \u001b[0myell_name\u001b[0m\u001b[0;34m(\u001b[0m\u001b[0mself\u001b[0m\u001b[0;34m)\u001b[0m\u001b[0;34m:\u001b[0m\u001b[0;34m\u001b[0m\u001b[0m\n\u001b[0;32m---> 12\u001b[0;31m         \u001b[0;32mreturn\u001b[0m \u001b[0;34m(\u001b[0m\u001b[0mself\u001b[0m\u001b[0;34m.\u001b[0m\u001b[0m_first_name\u001b[0m\u001b[0;34m)\u001b[0m\u001b[0;34m.\u001b[0m\u001b[0mupper\u001b[0m\u001b[0;34m(\u001b[0m\u001b[0;34m)\u001b[0m \u001b[0;34m+\u001b[0m \u001b[0;34m' '\u001b[0m  \u001b[0;34m+\u001b[0m  \u001b[0mself\u001b[0m\u001b[0;34m.\u001b[0m\u001b[0m_last_name\u001b[0m\u001b[0;34m.\u001b[0m\u001b[0mupper\u001b[0m\u001b[0;34m(\u001b[0m\u001b[0;34m)\u001b[0m\u001b[0;34m\u001b[0m\u001b[0m\n\u001b[0m",
      "\u001b[0;31mAttributeError\u001b[0m: 'Passenger' object has no attribute '_first_name'"
     ]
    }
   ],
   "source": [
    "passenger = Passenger()\n",
    "passenger.first = \"Ron\"\n",
    "passenger.last = \"Burgundy\"\n",
    "passenger.email = \"ron.burgundy1984@gmail.com\"\n",
    "print(passenger.first) # \"Ron\"\n",
    "print(passenger.last) # \"Burgundy\"\n",
    "print(passenger.email) # \"ron.burgundy1984@gmail.com\"\n",
    "passenger.yell_name() # \"RON BURGUNDY\""
   ]
  },
  {
   "cell_type": "markdown",
   "metadata": {},
   "source": [
    "Great work!"
   ]
  },
  {
   "cell_type": "markdown",
   "metadata": {},
   "source": [
    "## Summary\n",
    "In this lab, we practiced defining classes, instance methods, and utilizing the property, setter, and deleter decorators to access and operate on our instance variables."
   ]
  }
 ],
 "metadata": {
  "kernelspec": {
   "display_name": "Python 3",
   "language": "python",
   "name": "python3"
  },
  "language_info": {
   "codemirror_mode": {
    "name": "ipython",
    "version": 3
   },
   "file_extension": ".py",
   "mimetype": "text/x-python",
   "name": "python",
   "nbconvert_exporter": "python",
   "pygments_lexer": "ipython3",
   "version": "3.6.5"
  }
 },
 "nbformat": 4,
 "nbformat_minor": 2
}
